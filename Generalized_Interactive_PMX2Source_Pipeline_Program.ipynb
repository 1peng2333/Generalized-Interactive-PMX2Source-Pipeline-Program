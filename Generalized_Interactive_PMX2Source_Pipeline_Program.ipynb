{
  "nbformat": 4,
  "nbformat_minor": 0,
  "metadata": {
    "colab": {
      "provenance": [],
      "authorship_tag": "ABX9TyPImRCV5wXl0vR0HVx1uNz9",
      "include_colab_link": true
    },
    "kernelspec": {
      "name": "python3",
      "display_name": "Python 3"
    },
    "language_info": {
      "name": "python"
    }
  },
  "cells": [
    {
      "cell_type": "markdown",
      "metadata": {
        "id": "view-in-github",
        "colab_type": "text"
      },
      "source": [
        "<a href=\"https://colab.research.google.com/github/1peng2333/Generalized-Interactive-PMX2Source-Pipeline-Program/blob/main/Generalized_Interactive_PMX2Source_Pipeline_Program.ipynb\" target=\"_parent\"><img src=\"https://colab.research.google.com/assets/colab-badge.svg\" alt=\"Open In Colab\"/></a>"
      ]
    },
    {
      "cell_type": "markdown",
      "source": [
        "<img src=\"https://docs.blender.org/manual/en/2.93/_images/editors_3dview_startup-scene_labels.png\" height=\"250\" align=\"right\" style=\"height:250px\">\n",
        "\n",
        "#**Generalized Interactive PMX2Source Pipeline Program (GIPPP)**\n",
        "\n",
        "**Development still in progress and not ready for release** (V20250317)\n",
        "\n",
        "**This notebook is still just an interface (You could find nothing here, but could still see the general porting workflow)**\n",
        "\n",
        "This project contains 5922 lines of Python Codes. Putting all of them in this notebook will be a nightmare to debug. Development started from 2025/Mar/9.\n",
        "\n",
        "PMX format is an industry standard 3D model coding format used by most anime-style model, operated under Freeware License as a community supported project for MikuMikuDance [Official Website](https://sites.google.com/view/vpvp/). ([1] Higuchi et al. 2008)\n",
        "\n",
        "This notebook is developed by SheepyLord to perform a generalized model porting that automate import, scaling, renaming, combining bones, texture conversion etc...\n",
        "\n",
        "This notebook interacts with Blender. ([2] Blender Dev Team. 2024)\n",
        "\n",
        "See [Proportion trick](https://github.com/sksh70/proportion_trick_script) for proportion trick script implemented as part of this notebook.\n",
        "\n",
        "\n"
      ],
      "metadata": {
        "id": "SG7Y6-a_KuQu"
      }
    },
    {
      "cell_type": "code",
      "execution_count": null,
      "metadata": {
        "id": "_4Vb8vPgRa3L",
        "colab": {
          "base_uri": "https://localhost:8080/"
        },
        "cellView": "form",
        "outputId": "b4cb7978-c5ca-4e55-b686-d5132a7593d8"
      },
      "outputs": [
        {
          "output_type": "stream",
          "name": "stdout",
          "text": [
            "/content\n",
            "Tensorflow: 2.18.0\n"
          ]
        }
      ],
      "source": [
        "#@title Setup Everything. **Do Not Interrupt When Running This Cell**. (~5 min)\n",
        "import os, time, sys\n",
        "!pwd\n",
        "\n",
        "os.environ[\"PYTORCH_CUDA_ALLOC_CONF\"] = \"max_split_size_mb:512\"\n",
        "\n",
        "if not os.path.isdir(\"TensorFlow\"):\n",
        "  print(\"installing TensorFlow\")\n",
        "  os.system(\"pip install tensorflow[and-cuda]\")\n",
        "  os.system(\"mkdir TensorFlow\")\n",
        "\n",
        "#@markdown **To myself**:\n",
        "#@markdown - docker start -i MMD2MDL\n",
        "#@markdown - http://localhost:8080/?token=14a3a6afc0f343a842e79212206865f1acf96fd6771d0c94\n",
        "#@markdown - Replace token.\n",
        "\n",
        "if not os.path.isdir(\"scripts\"):\n",
        "  os.system(\"mkdir scripts\")\n",
        "  os.system(\"mkdir models and weights\")\n",
        "  os.system(\"mkdir 1_PMX\")\n",
        "  os.system(\"mkdir 2_Blender\")\n",
        "  os.system(\"mkdir 3_Flexes\")\n",
        "  os.system(\"mkdir 4_Blender_Scaled_Tex\")\n",
        "  os.system(\"mkdir 5_PT_export\")\n",
        "  os.system(\"mkdir 6_Complie_trials\")\n",
        "\n",
        "import numpy as np\n",
        "import matplotlib.pyplot as plt\n",
        "import torch\n",
        "from tqdm.notebook import tqdm\n",
        "import tensorflow as tf\n",
        "from tensorflow import keras\n",
        "import json\n",
        "import pandas as pd\n",
        "\n",
        "print(\"Tensorflow:\", tf.version.VERSION)\n"
      ]
    },
    {
      "cell_type": "code",
      "source": [
        "#@title Model Import **Settings**\n",
        "#@markdown **Basic** settings\n",
        "#@markdown ---\n",
        "\n",
        "project_name = \"Megumi\" #@param {type:\"string\"}\n",
        "project_name = project_name.lower()\n",
        "os.system(f\"mkdir {project_name}\")\n",
        "\n",
        "mmd_file_name = \"megumi_refrence\" #@param {type:\"string\"}\n",
        "#@markdown - Will search \".pmx\" in 1_PMX folder.\n",
        "\n",
        "target_model_height = \"1.52\" #@param {type:\"string\"}\n",
        "#@markdown - All units in meters and kilograms.\n",
        "\n",
        "fix_model_interations = 2 #@param [\"0\", \"1\", \"2\", \"4\"]\n",
        "\n",
        "model_height_refrence = \"head_top\" #@param [\"eyes\", \"head_top\", \"highest_pt_on_model\"]\n",
        "#@markdown - `eyes` assumes eyes is at 0.1 m below the model top.\n",
        "#@markdown - `head_top` uses a pretrained 3D CNN model to identify head, and take the top position of the head box.\n",
        "#@markdown - `highest_pt_on_model` have no consideration.\n",
        "\n",
        "opts = [f\"--project_name = {project_name}\",\n",
        "        f\"--mmd_file_path = 1_PMX/\",\n",
        "        f\"--mmd_file_name = {mmd_file_name}\",\n",
        "        f\"--target_model_height = {target_model_height}\",\n",
        "        f\"--fix_model_interations = {fix_model_interations}\",\n",
        "        f\"--model_height_refrence = {model_height_refrence}\",\n",
        "        ]\n",
        "\n",
        "opts = ' '.join(opts)\n",
        "!python scripts/blender/1_import_and_scale.py {opts}"
      ],
      "metadata": {
        "colab": {
          "base_uri": "https://localhost:8080/"
        },
        "cellView": "form",
        "id": "56Zww3JCNpfp",
        "outputId": "bd828e9b-56af-47ff-8f26-e36e21757967"
      },
      "execution_count": null,
      "outputs": [
        {
          "output_type": "stream",
          "name": "stdout",
          "text": [
            "S1: Model Imported\n",
            "S1: Refrence Imported\n",
            "S1: 3D CNN Model Exectued\n",
            "S1: Scaled Model to Desired Height\n",
            "S1: Applied All Transforms\n",
            "S1: Refrence Removed\n",
            "S1: Moved Lowest Point of Model 0.05m About the Ground\n",
            "S1: Blend file Written\n",
            "S1: Script Completed Without Error\n"
          ]
        }
      ]
    },
    {
      "cell_type": "code",
      "source": [
        "#@title Model **Translation** into English Valve\n",
        "\n",
        "flex_name_standard = \"8siandude\" #@param [\"8siandude\", \"Valve\", \"RStar\", \"Captain\"]\n",
        "bone_name_standard = \"8siandude\" #@param [\"8siandude\", \"Valve\", \"RStar\", \"Captain\"]\n",
        "use_custom_taunt = False #@param {type:\"boolean\"}\n",
        "\n",
        "remove_excess_objects = True #@param {type:\"boolean\"}\n",
        "combine_excess_bones = True #@param {type:\"boolean\"}\n",
        "\n",
        "missing_translation_standard = \"DeepL\" #@param [\"local_dict\", \"Google\", \"DeepL\", \"Baidu\"]\n",
        "#@markdown - Auto set API key needs to be implemented.\n",
        "\n",
        "opts = [f\"--flex_name_standard = {flex_name_standard}\",\n",
        "        f\"--bone_name_standard = {bone_name_standard}\",\n",
        "        f\"--blend_file_path = /2_Blender/\",\n",
        "        f\"--use_custom_taunt = {use_custom_taunt}\",\n",
        "        f\"--remove_excess_objects = {remove_excess_objects}\",\n",
        "        f\"--combine_excess_bones = {combine_excess_bones}\",\n",
        "        f\"--missing_translation_standard = {missing_translation_standard}\",\n",
        "        ]\n",
        "\n",
        "opts = ' '.join(opts)\n",
        "!python scripts/blender/2_translate.py {opts}"
      ],
      "metadata": {
        "colab": {
          "base_uri": "https://localhost:8080/"
        },
        "cellView": "form",
        "id": "4JHmk0gkSLCF",
        "outputId": "c6d69575-99a2-4be0-f808-c63e2c9d0599"
      },
      "execution_count": null,
      "outputs": [
        {
          "output_type": "stream",
          "name": "stdout",
          "text": [
            "S2: Blend file Imported\n",
            "S2: Translated using cat_mmd plugin\n",
            "S2: Found 0 bad translation in Bone\n",
            "S2: Found 0 bad translation in Texture\n",
            "S2: Found 1 bad translation in Shapekey\n",
            "S2: Removed All Special Chars\n",
            "S2: Translation: Mouth ~~ => mouth_w\n",
            "S2: Flex List Written\n",
            "S2: Bone Renamed to Source\n",
            "S2: Flexes Renamed to Source\n",
            "S2: Blend File Written\n",
            "S2: Script Completed Without Error\n"
          ]
        }
      ]
    },
    {
      "cell_type": "code",
      "source": [
        "#@title Model **Add and Combine** Bones\n",
        "\n",
        "#@markdown Only optimized for toes and skirt\n",
        "\n",
        "add_spine_bones = True #@param {type:\"boolean\"}\n",
        "combine_splited_toes = True #@param {type:\"boolean\"}\n",
        "combine_skirt = True #@param {type:\"boolean\"}\n",
        "combine_skirt_scheme = \"auto_odd\" #@param [\"auto_even\", \"auto_odd\"]\n",
        "#@markdown - Combine 6 bones to 1, usually end with 6 and 7 bones.\n",
        "#@markdown - Try to switch to another one if it fails.\n",
        "#@markdown - Odd for situation which there is bone at exact location of front skirt center line.\n",
        "#@markdown - Even for situation which there is no bone at front skirt center line.\n",
        "\n",
        "opts = [f\"--add_spine_bones = {add_spine_bones}\",\n",
        "        f\"--combine_splited_toes = {combine_splited_toes}\",\n",
        "        f\"--combine_skirt = {combine_skirt}\",\n",
        "        f\"--combine_skirt_scheme = {combine_skirt_scheme}\"\n",
        "        f\"--blend_file_path = /2_Blender/\",\n",
        "]\n",
        "\n",
        "!python scripts/blender/3_ac_bones.py {opts}"
      ],
      "metadata": {
        "colab": {
          "base_uri": "https://localhost:8080/"
        },
        "cellView": "form",
        "id": "vAI5kefIWDXn",
        "outputId": "689d7d37-0b81-4cae-a25f-2c24a2591d6e"
      },
      "execution_count": null,
      "outputs": [
        {
          "output_type": "stream",
          "name": "stdout",
          "text": [
            "S3: Blend file Imported\n",
            "Missing: ValveBiped.Bip01_Pelvis\n",
            "Mislocated: ValveBiped.Bip01_Spine\n",
            "Missing: ValveBiped.Bip01_Spine2\n",
            "Mislocated: ValveBiped.Bip01_Spine4\n",
            "Moved: ValveBiped.Bip01_Spine4\n",
            "Added: Base.001\n",
            "Added: ValveBiped.Bip01_Spine1.001\n",
            "Renaming: Base => ValveBiped.Bip01_Pelvis\n",
            "Reparent: ValveBiped.Bip01_Spine => ValveBiped.Bip01_Pelvis\n",
            "Reparent: ValveBiped.Bip01_L_Thigh => ValveBiped.Bip01_Pelvis\n",
            "Reparent: ValveBiped.Bip01_R_Thigh => ValveBiped.Bip01_Pelvis\n",
            "Renaming: ValveBiped.Bip01_Spine1.001 => ValveBiped.Bip01_Spine2\n",
            "Connecing: ValveBiped.Bip01_Spine2 => ValveBiped.Bip01_Spine4\n",
            "Found 5 Correct Spine Bones\n",
            "Passed\n",
            "S3: Combined toes\n",
            "S3: Skirt bones combined successfully\n",
            "S3: Blend File Written\n",
            "S3: Script Completed Without Error\n"
          ]
        }
      ]
    },
    {
      "cell_type": "code",
      "source": [
        "#@title Model **Combine** Textures and Remove Unwanted Verts\n",
        "\n",
        "combine_textures = True #@param {type:\"boolean\"}\n",
        "keep = \"Head, Face, Expressions, Bra, Pants, Skirt, Shirt, Coat, Jacket, Socks, Shoes\" #@param {type:\"string\"}\n",
        "keep_search_mode = \"arbitrary\" #@param [\"exact_match\", \"arbitrary\"]\n",
        "\n",
        "opts = [f\"--combine_textures = {combine_textures}\",\n",
        "        f\"--keep = {keep}\",\n",
        "        f\"--keep_search_mode = {keep_search_mode}\",\n",
        "        f\"--blend_file_path = /2_Blender/\",]\n",
        "\n",
        "!python scripts/blender/4_cb_tex.py {opts}"
      ],
      "metadata": {
        "colab": {
          "base_uri": "https://localhost:8080/"
        },
        "cellView": "form",
        "id": "E4KWi0Dgdwqv",
        "outputId": "334dbefc-7e8f-4f73-fa9f-9a1858db8385"
      },
      "execution_count": null,
      "outputs": [
        {
          "output_type": "stream",
          "name": "stdout",
          "text": [
            "S4: Blend file Imported\n",
            "Textures with Similar Names Were Combined\n",
            "Textures count 36 => 16\n",
            "S4: Removed Unwanted Verts\n",
            "S4: Removed Unwanted Textures\n",
            "S4: Set All Alpha to 1.0\n",
            "S4: Blend File Written\n",
            "S4: Script Completed Without Error\n"
          ]
        }
      ]
    },
    {
      "cell_type": "code",
      "source": [
        "#@title Apply Necessary ShapeKeys to Edit Mode\n",
        "\n",
        "apply_shape_keys = True #@param {type:\"boolean\"}\n",
        "print(\"Have to be done manually\")\n",
        "print(\"Download 4.blend and apply required shape keys.\")\n",
        "print(\"Upload process file as 5.blend and Continue\")\n",
        "\n",
        "if apply_shape_keys:\n",
        "  raise FileNotFoundError"
      ],
      "metadata": {
        "colab": {
          "base_uri": "https://localhost:8080/",
          "height": 228
        },
        "cellView": "form",
        "id": "xhCdSAS6hMvJ",
        "outputId": "82147019-41de-44b9-f6b3-15e5d94dbb47"
      },
      "execution_count": null,
      "outputs": [
        {
          "output_type": "stream",
          "name": "stdout",
          "text": [
            "Have to be done manually\n",
            "Download 4.blend and apply required shape keys.\n",
            "Upload process file as 5.blend and Continue\n"
          ]
        },
        {
          "output_type": "error",
          "ename": "FileNotFoundError",
          "evalue": "",
          "traceback": [
            "\u001b[0;31m---------------------------------------------------------------------------\u001b[0m",
            "\u001b[0;31mFileNotFoundError\u001b[0m                         Traceback (most recent call last)",
            "\u001b[0;32m<ipython-input-6-5bb73da0f36f>\u001b[0m in \u001b[0;36m<cell line: 0>\u001b[0;34m()\u001b[0m\n\u001b[1;32m      6\u001b[0m \u001b[0mprint\u001b[0m\u001b[0;34m(\u001b[0m\u001b[0;34m\"Upload process file as 5.blend and Continue\"\u001b[0m\u001b[0;34m)\u001b[0m\u001b[0;34m\u001b[0m\u001b[0;34m\u001b[0m\u001b[0m\n\u001b[1;32m      7\u001b[0m \u001b[0;34m\u001b[0m\u001b[0m\n\u001b[0;32m----> 8\u001b[0;31m \u001b[0;32mraise\u001b[0m \u001b[0mFileNotFoundError\u001b[0m\u001b[0;34m\u001b[0m\u001b[0;34m\u001b[0m\u001b[0m\n\u001b[0m",
            "\u001b[0;31mFileNotFoundError\u001b[0m: "
          ]
        }
      ]
    },
    {
      "cell_type": "code",
      "source": [
        "#@title Split and Export\n",
        "\n",
        "split_by = \"texture\" #@param [\"texture\", \"loose_group\"]\n",
        "verts_limit = 12800\n",
        "over_limit_split_by = \"center_of_mass\" #@param [\"axis\", \"center_of_mass\", \"random\", \"loose_group\"]\n",
        "over_limit_rename_by = \"DeepSeek\" #@param [\"DeepSeek\", \"ChatGPT\"]\n",
        "prompt = \"Body has 2 parts, 'FrontBody' and 'BackBody', like {AAA} have 2 parts, {BBB} and {CCC}. \\n Please keep the same format and fill the Bs and Cs\" #@param {type:\"string\"}\n",
        "\n",
        "opts = [f\"--split_by = {split_by}\",\n",
        "        f\"--verts_limit = {verts_limit}\",\n",
        "        f\"--over_limit_split_by = {over_limit_split_by}\",\n",
        "        f\"--blend_file_path = /2_Blender/\",]\n",
        "\n",
        "!python scripts/blender/6_sp_exp.py {opts}"
      ],
      "metadata": {
        "colab": {
          "base_uri": "https://localhost:8080/"
        },
        "cellView": "form",
        "id": "BirsKQypfaXf",
        "outputId": "bceb19be-5384-4ebf-9f74-a2fc11b3ea14"
      },
      "execution_count": null,
      "outputs": [
        {
          "output_type": "stream",
          "name": "stdout",
          "text": [
            "S6: Blend file Imported\n",
            "S6: Splited by Texture, Got 15 Body Groups\n",
            "S6: Removed ShapeKeys for Shoes\n",
            "S6: Auto Combined Face, Got 15 => 12 Body Groups\n",
            "S6: Body Group Hair Has 19925 Verts!!!\n",
            "S6: Splited Hair, by COM, Got 8956 and 10969.\n",
            "S6: Waiting for DeepSeek API to respond.\n",
            "S6: Renamed as 'FrontHair' and 'BackHair'\n",
            "S6: Final Check Reported No Error\n",
            "S6: Exported\n",
            "S6: Last Blend File Written\n",
            "S6: Script Completed Without Error\n"
          ]
        }
      ]
    },
    {
      "cell_type": "code",
      "source": [
        "#@title Do Textures VTFEDIT\n",
        "\n",
        "do_textures = True #@param {type:\"boolean\"}\n",
        "#@markdown - Just Run this, this is well-coded already.\n",
        "opts = [f\"project_name = {project_name}\",]\n",
        "\n",
        "!python scripts/blender/7_dt.py {opts}"
      ],
      "metadata": {
        "colab": {
          "base_uri": "https://localhost:8080/"
        },
        "cellView": "form",
        "id": "3qQYMZpNjWb2",
        "outputId": "61f7ba14-676e-4201-db75-9ba3f49b522a"
      },
      "execution_count": null,
      "outputs": [
        {
          "output_type": "stream",
          "name": "stdout",
          "text": [
            "S7: Found 12 Available Texture Files\n",
            "S7: Copied 3 Files to Match All Material Instances\n",
            "S7: Texture Renaming...\n",
            "S7: Converting to VTF/VMT (~ 90s)\n",
            "S7: Adjusting culls and paths\n",
            "S7: Script Completed Without Error\n"
          ]
        }
      ]
    },
    {
      "cell_type": "code",
      "source": [
        "#@title Proportion Tricks\n",
        "\n",
        "!python scripts/proportion_tricks/SPT.py {opts}"
      ],
      "metadata": {
        "colab": {
          "base_uri": "https://localhost:8080/"
        },
        "cellView": "form",
        "id": "dcYLIn5Zx2Bo",
        "outputId": "005db8ca-25d4-48ce-df30-2d44b4a861b3"
      },
      "execution_count": null,
      "outputs": [
        {
          "output_type": "stream",
          "name": "stdout",
          "text": [
            "SPT: Blender is up, v2.7.3\n",
            "SPT: Loaded 11 Available SMD Files\n",
            "SPT: Named to gg\n",
            "SPT: Ran PT1\n",
            "SPT: Applied as Rest Pose\n",
            "SPT: Cleared Pose Constraint\n",
            "SPT: Calculating Toe to Z axis Angle\n",
            "SPT: Adjusting Toe and Ankle\n",
            "SPT: Layer 1 Activated\n",
            "SPT: Ran PT2\n",
            "SPT: Linked Modifiers\n",
            "SPT: Exporting\n",
            "SPT: Script Completed Without Error\n"
          ]
        }
      ]
    },
    {
      "cell_type": "code",
      "source": [
        "#@title Do Phys Model\n",
        "\n",
        "phys_model_template = \"8siandude\" #@param [\"8siandude\", \"auto_center_of_mass_by_bones\", \"template\"]\n",
        "auto_scaling = True #@param {type:\"boolean\"}\n",
        "allow_move_bone_to_match_model = True #@param {type:\"boolean\"}\n",
        "allow_move_phys_model_to_match_bone = False #@param {type:\"boolean\"}\n",
        "\n",
        "opts = [f\"phys_model_template = {phys_model_template}\",\n",
        "        f\"project_name = {project_name}\",\n",
        "        f\"auto_scaling = {auto_scaling}\",\n",
        "        f\"allow_move_bone_to_match_model = {allow_move_bone_to_match_model}\",\n",
        "        f\"allow_move_phys_model_to_match_bone = {allow_move_phys_model_to_match_bone}\",\n",
        "        f\"--blend_file_path = /2_Blender/\",]\n",
        "\n",
        "!python scripts/blender/8_phys.py {opts}"
      ],
      "metadata": {
        "colab": {
          "base_uri": "https://localhost:8080/"
        },
        "cellView": "form",
        "id": "o366LW9vjxOm",
        "outputId": "d5acedb2-f5b5-4e54-af7a-83c122488b75"
      },
      "execution_count": null,
      "outputs": [
        {
          "output_type": "stream",
          "name": "stdout",
          "text": [
            "S8: Loaded Body.smd\n",
            "S8: Using Odd Version of Phys Model\n",
            "S8: Loaded Refrence Phys Model\n",
            "S8: Rescaling\n",
            "S8: Checking Weights and Names\n",
            "S8: Exorting\n",
            "S8: Script Completed Without Error\n"
          ]
        }
      ]
    },
    {
      "cell_type": "code",
      "source": [
        "#@title Auto Qc and Compliing\n",
        "\n",
        "use_complier = \"Advanced_Gmod\" #@param [\"Gmod\", \"Advanced_Gmod\", \"SFM\", \"L4D2\", \"CSGOLegacy\"]\n",
        "do_defbone = True #@param {type:\"boolean\"}\n",
        "do_hbox = True #@param {type:\"boolean\"}\n",
        "do_jbones = True #@param {type:\"boolean\"}\n",
        "do_phys_model = True #@param {type:\"boolean\"}\n",
        "verbose = False #@param {type:\"boolean\"}\n",
        "\n",
        "opts = [f\"use_complier = {use_complier}\",\n",
        "        f\"do_defbone = {do_defbone}\",\n",
        "        f\"do_hbox = {do_hbox}\",\n",
        "        f\"do_jbones = {do_jbones}\",\n",
        "        f\"project_name = {project_name}\",\n",
        "        f\"do_phys_model = {do_phys_model}\",\n",
        "        f\"quiet = {verbose}\",]\n",
        "\n",
        "!python scripts/blender/9_comp.py {opts}"
      ],
      "metadata": {
        "colab": {
          "base_uri": "https://localhost:8080/"
        },
        "cellView": "form",
        "id": "Nhj9eK98xJCA",
        "outputId": "44db5ca7-6ebb-47d1-fce6-b4bbfdf10a9b"
      },
      "execution_count": null,
      "outputs": [
        {
          "output_type": "stream",
          "name": "stdout",
          "text": [
            "S9: Generated flex controllers from Face.vta\n",
            "S9: Define Bone Completed\n",
            "S9: Define HitBox Completed\n",
            "S9: Assigned Jbones to *hair, *skirt and *breast\n",
            "S9: Constructed Phys Model Settings\n",
            "S9: Compling from model.qc\n",
            "S9: Script Completed Without Error\n",
            "S9: Model Compiled with Great Success!!!\n"
          ]
        }
      ]
    },
    {
      "cell_type": "code",
      "source": [
        "#@title Compose Folder and Zip\n",
        "from google.colab import files\n",
        "\n",
        "!python scripts/blender/10_publish.py {opts}\n",
        "files.download(f'{project_name}.zip')"
      ],
      "metadata": {
        "colab": {
          "base_uri": "https://localhost:8080/"
        },
        "cellView": "form",
        "id": "c-S8gkXUzCbD",
        "outputId": "0c2f2317-c10c-40ce-a0d2-6bf93ec9579e"
      },
      "execution_count": null,
      "outputs": [
        {
          "output_type": "stream",
          "name": "stdout",
          "text": [
            "S10: Moved Model\n",
            "S10: Moved Materials\n",
            "S10: Generated Placeholder SpawnIcons\n",
            "S10: Generated LUAs\n",
            "S10: Moved Placeholder c_arms\n",
            "S10: Clean_up\n",
            "S10: Zipping Folder\n"
          ]
        }
      ]
    },
    {
      "cell_type": "markdown",
      "source": [
        "# Citations\n",
        "(Not finished yet)\n",
        "\n",
        "[1] Higuchi et al. (2008). MikuMikuDance (Version 9.32) [Computer software]. \thttps://sites.google.com/view/vpvp\n",
        "\n",
        "[2] Blender Development Team. (2022). Blender (Version 3.1.0) [Computer software]. https://www.blender.org"
      ],
      "metadata": {
        "id": "tebVTgVqNFpa"
      }
    }
  ]
}